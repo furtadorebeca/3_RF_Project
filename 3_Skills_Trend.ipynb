{
 "cells": [
  {
   "cell_type": "markdown",
   "id": "f6a9a918",
   "metadata": {},
   "source": [
    "# How are in-demand skills trending for Data Analysts?\n",
    "\n",
    "## Methodology\n",
    "\n",
    "1. Aggregate skill counts monthly\n",
    "2. Re-analyze based on percentage of total jobs\n",
    "3. Plot the monthly skill demand\n",
    "\n",
    "### Original Exploration:\n",
    "[Exercise - Trending Skills](../2_RF_Advanced/2_11_Pandas_Applying_Explode_Exercise.ipynb)"
   ]
  },
  {
   "cell_type": "code",
   "execution_count": 1,
   "id": "a46c4e35",
   "metadata": {},
   "outputs": [],
   "source": [
    "# Importing Libraries\n",
    "import ast\n",
    "import pandas as pd\n",
    "import seaborn as sns\n",
    "from datasets import load_dataset\n",
    "import matplotlib.pyplot as plt \n",
    "\n",
    "# Loading Data\n",
    "dataset = load_dataset('lukebarousse/data_jobs')\n",
    "df = dataset['train'].to_pandas()\n",
    "\n",
    "# Data Cleanup\n",
    "df['job_posted_date'] = pd.to_datetime(df['job_posted_date'])\n",
    "df['job_skills'] = df['job_skills'].apply(lambda x: ast.literal_eval(x) if pd.notna(x) else x)"
   ]
  },
  {
   "cell_type": "markdown",
   "id": "19abc289",
   "metadata": {},
   "source": [
    "### Any Trends?\n",
    "\n",
    "Now that we found out what are the top 5 skills sought after in data roles, we can now dive deeper into this. Specifically, we want to find out if there is any trend with these skills, like *should we be worried that any of these technologies are going out of style, or are they actually booming?*"
   ]
  },
  {
   "cell_type": "markdown",
   "id": "1773b487",
   "metadata": {},
   "source": []
  }
 ],
 "metadata": {
  "kernelspec": {
   "display_name": "python_env_course",
   "language": "python",
   "name": "python3"
  },
  "language_info": {
   "codemirror_mode": {
    "name": "ipython",
    "version": 3
   },
   "file_extension": ".py",
   "mimetype": "text/x-python",
   "name": "python",
   "nbconvert_exporter": "python",
   "pygments_lexer": "ipython3",
   "version": "3.12.2"
  }
 },
 "nbformat": 4,
 "nbformat_minor": 5
}
